{
  "cells": [
    {
      "cell_type": "code",
      "execution_count": null,
      "metadata": {
        "id": "okmr-5Br-z9o"
      },
      "outputs": [],
      "source": [
        "import pandas as pd\n",
        "import numpy as np\n",
        "import yfinance as yf\n",
        "import ast\n",
        "from matplotlib import pyplot as plt\n",
        "from tqdm import tqdm\n",
        "from pandas.core.indexes.datetimes import date\n",
        "from datetime import timedelta\n",
        "\n",
        "import requests\n",
        "from concurrent.futures import ThreadPoolExecutor\n",
        "import concurrent.futures\n",
        "\n",
        "import warnings\n",
        "\n",
        "warnings.simplefilter(action='ignore', category=pd.errors.PerformanceWarning)"
      ]
    },
    {
      "attachments": {},
      "cell_type": "markdown",
      "metadata": {
        "id": "448qYIJAEKcH"
      },
      "source": [
        "We can get the **full** symbol universe from this Git repo: https://github.com/mlapenna7/yh_symbol_universe\n",
        "\n",
        "The version as of January 2023 is in this repository already as `yhallsym.txt`"
      ]
    },
    {
      "cell_type": "code",
      "execution_count": null,
      "metadata": {
        "id": "3yHZIO7HE-XP"
      },
      "outputs": [],
      "source": [
        "# Reading the json as a dict\n",
        "with open('yhallsym.txt', 'r') as file:\n",
        "  all_tickers = file.read().rstrip()\n",
        "\n",
        "all_tickers_dict = ast.literal_eval(data)"
      ]
    },
    {
      "cell_type": "markdown",
      "metadata": {
        "id": "a6YobH1K9ymo"
      },
      "source": [
        "But generally speaking, we should ignore the above and focus on just the S&P500 since it's an easier calculation and represents safer investments."
      ]
    },
    {
      "cell_type": "code",
      "execution_count": null,
      "metadata": {
        "id": "LwY9_sOX_azg"
      },
      "outputs": [],
      "source": [
        "# Set the date range we're interesed in for the rest of the analysis.\n",
        "start_dt = pd.to_datetime('2000-01-01')\n",
        "end_dt = pd.to_datetime('2022-08-01')"
      ]
    },
    {
      "cell_type": "code",
      "execution_count": null,
      "metadata": {
        "id": "SHfm8vbnGgkD"
      },
      "outputs": [],
      "source": [
        "# This is a list of all tickers on the S&P500 circa... whenever.\n",
        "spx_tickers_df = pd.read_csv('https://raw.githubusercontent.com/datasets/s-and-p-500-companies/master/data/constituents.csv', on_bad_lines='warn')"
      ]
    },
    {
      "cell_type": "markdown",
      "metadata": {
        "id": "MJHLqreZ-HLf"
      },
      "source": [
        "The list 'target-equities.csv' originated with a simple stock screen via ThinkorSwim to look for equities that were exposed to the Building Materials sector."
      ]
    },
    {
      "cell_type": "code",
      "execution_count": null,
      "metadata": {
        "id": "yd327IQC7ys1"
      },
      "outputs": [],
      "source": [
        "target_tickers_df = pd.read_csv('target-equities.csv')"
      ]
    },
    {
      "cell_type": "markdown",
      "metadata": {
        "id": "8cX_pyVmYram"
      },
      "source": [
        "The mortgage rate data comes from the weekly rate information published alongside the MBA Purchase Index and retrieved from Bloomberg."
      ]
    },
    {
      "cell_type": "code",
      "execution_count": null,
      "metadata": {
        "id": "Tb46agNAoKZt"
      },
      "outputs": [],
      "source": [
        "mortgage_rates_df = pd.read_csv('mortgage-rates.csv')\n",
        "mortgage_rates_df['Date'] = pd.to_datetime(mortgage_rates_df['Unnamed: 0'])\n",
        "mortgage_rates_df = pd.DataFrame(mortgage_rates_df.set_index('Date', drop=True)['MortgageRates'])\n",
        "mortgage_rates_df = mortgage_rates_df[mortgage_rates_df.index >= start_dt]"
      ]
    },
    {
      "cell_type": "markdown",
      "metadata": {
        "id": "jNkiXl5IaO3v"
      },
      "source": [
        "The list of Fed Funds rate changes in 'fed-actions.csv' was drawn from: https://en.wikipedia.org/wiki/History_of_Federal_Open_Market_Committee_actions"
      ]
    },
    {
      "cell_type": "code",
      "execution_count": null,
      "metadata": {
        "id": "Pf9bHErJaLKY"
      },
      "outputs": [],
      "source": [
        "# Load The Fed actions data, set the dates as the index and narrow it to the timeframe we're interested in.\n",
        "fed_actions_df = pd.read_csv('fed-actions.csv')\n",
        "fed_actions_df['fed-date'] = pd.to_datetime(fed_actions_df['fed-date'])\n",
        "fed_actions_df = fed_actions_df.set_index('fed-date', drop=True)\n",
        "fed_actions_df = fed_actions_df[(fed_actions_df.index >= start_dt) & (fed_actions_df.index < end_dt)]"
      ]
    },
    {
      "cell_type": "markdown",
      "metadata": {},
      "source": []
    },
    {
      "cell_type": "code",
      "execution_count": null,
      "metadata": {
        "id": "U6vX8jJElvdv"
      },
      "outputs": [],
      "source": [
        "# Define your targets as the full S&P500 plus any additional you've identified.\n",
        "target_tickers_lst = spx_tickers_df['Symbol'].to_list() + target_tickers_df['Symbol'].to_list() + ['^GSPC']\n",
        "target_tickers_lst = list(set(target_tickers_lst))"
      ]
    },
    {
      "cell_type": "code",
      "execution_count": null,
      "metadata": {
        "id": "MSKiQzLGhjXq"
      },
      "outputs": [],
      "source": [
        "# OR Define your targets as only those potential equities you've identified.\n",
        "target_tickers_lst = list(set(target_tickers_df['Symbol'].to_list() + ['^GSPC']))"
      ]
    },
    {
      "cell_type": "markdown",
      "metadata": {},
      "source": []
    },
    {
      "cell_type": "code",
      "execution_count": null,
      "metadata": {
        "id": "RexAg4v-CvGF"
      },
      "outputs": [],
      "source": [
        "# Download the MONTHLY data on stock prices for our selected equities from Y Finance\n",
        "targets_df = pd.DataFrame()\n",
        "targets_df = yf.download(tickers=target_tickers_lst, start=start_dt, end=end_dt, interval='1mo')\n",
        "\n",
        "# Narrow the data downloaded to only the close prices.\n",
        "def format_columns_in(df):\n",
        "    df = df[[(col[0], col[1]) for col in list(df) if col[0] == 'Close']]\n",
        "    df.columns = [col[1] for col in list(df)]\n",
        "\n",
        "    return df\n",
        "\n",
        "targets_df = format_columns_in(targets_df)"
      ]
    },
    {
      "cell_type": "code",
      "execution_count": null,
      "metadata": {
        "id": "vSN_5h0Hq1ku"
      },
      "outputs": [],
      "source": [
        "# Download the stock prices for our selected equities for dates aronud Fed fund actions.\n",
        "# To do this we're going to define a function to get the set of prices for each Fed action date and run the queries concurrently.\n",
        "# Even with a concurrent run this will take a while\n",
        "def get_prices_async(action_dt):\n",
        "  range_start_dt = action_dt - timedelta(days=7)\n",
        "  range_end_dt = action_dt + timedelta(days=7)\n",
        "  \n",
        "  df = yf.download(tickers=target_tickers_lst, start=range_start_dt, end=range_end_dt, interval='1d', threads=True)\n",
        "  \n",
        "  return df"
      ]
    },
    {
      "cell_type": "code",
      "execution_count": null,
      "metadata": {
        "colab": {
          "base_uri": "https://localhost:8080/"
        },
        "id": "RR2J69g5o8dU",
        "outputId": "002f1781-2781-47a4-9fad-a85977da0219"
      },
      "outputs": [],
      "source": [
        "futures_lst = []\n",
        "with ThreadPoolExecutor(max_workers=6) as executor:\n",
        "  for _dt in fed_actions_df.index[:2]:\n",
        "    future = executor.submit(get_prices_async, _dt)\n",
        "    futures_lst.append(future)\n",
        "\n",
        "for future in concurrent.futures.as_completed(futures_lst):\n",
        "  result_df = format_columns_in(future.result())\n",
        "  result_df.to_csv('fed-reactions1.csv', mode='a', index=True, header=True)"
      ]
    },
    {
      "cell_type": "code",
      "execution_count": null,
      "metadata": {
        "id": "7w3AgVvko9dM"
      },
      "outputs": [],
      "source": [
        "# This function calculates the cumulative growth rate for each equity relative to the S&P500\n",
        "def calc_growth(df: pd.DataFrame) -> pd.DataFrame:\n",
        "  growth_df = pd.DataFrame(index=df.index)\n",
        "\n",
        "  for ticker in tqdm((['^GSPC'] + list(df)[:-1])):\n",
        "    start_flt = None\n",
        "    growth_flt = None\n",
        "    ticker_indx = df[df[ticker].notnull()].index\n",
        "    if len(ticker_indx) > 0:\n",
        "      start_flt = df.loc[ticker_indx[0], ticker]\n",
        "\n",
        "      for month in ticker_indx:\n",
        "        if ticker == '^GSPC':\n",
        "          growth_flt = (df.loc[month, ticker] / start_flt) - 1\n",
        "          growth_df.loc[month, ticker] = growth_flt\n",
        "        else:\n",
        "          growth_flt = ((df.loc[month, ticker] / start_flt) - 1) - growth_df.loc[month, '^GSPC']\n",
        "          growth_df.loc[month, ticker] = growth_flt\n",
        "\n",
        "  return growth_df"
      ]
    },
    {
      "cell_type": "code",
      "execution_count": null,
      "metadata": {
        "id": "5SVyPwdKNrpn"
      },
      "outputs": [],
      "source": [
        "growth_df = calc_growth(targets_df)"
      ]
    },
    {
      "cell_type": "code",
      "execution_count": null,
      "metadata": {
        "id": "YTTINY_2q3K-"
      },
      "outputs": [],
      "source": [
        "# This loop adds the growth rate in mortgage rates to their dataframe.\n",
        "for month in mortgage_rates_df.index:\n",
        "  growth_flt = (mortgage_rates_df.loc[month, 'MortgageRates'] / mortgage_rates_df.loc[start_dt, 'MortgageRates']) - 1\n",
        "  mortgage_rates_df.loc[month, 'Growth'] = growth_flt"
      ]
    },
    {
      "cell_type": "code",
      "execution_count": null,
      "metadata": {
        "id": "98cVtv5uxkdp"
      },
      "outputs": [],
      "source": [
        "# This loop finds only those equities wih a history that goes back at least through our start date and calculates the \n",
        "# correlation between its growth relative to the S&P500 and the change in mortgage rates.\n",
        "corr_df = pd.DataFrame(index=list(growth_df), columns=['mortgage-rate-corr'])\n",
        "for ticker in tqdm(list(growth_df)):\n",
        "  corr_flt = None\n",
        "  ticker_df = pd.DataFrame(growth_df[growth_df[ticker].notnull()][ticker])\n",
        "  if ticker_df.index[0] <= start_dt:\n",
        "    start_dt = ticker_df.index[0]\n",
        "    x_growth_arr = np.array(ticker_df[ticker])\n",
        "\n",
        "    y_growth_arr = np.array(mortgage_rates_df[mortgage_rates_df.index >= start_dt]['Growth'])\n",
        "\n",
        "    corr_flt = np.corrcoef(x_growth_arr, y_growth_arr)[0][1]\n",
        "\n",
        "    corr_df.loc[ticker, 'mortgage-rate-corr'] = corr_flt"
      ]
    },
    {
      "cell_type": "code",
      "execution_count": null,
      "metadata": {
        "id": "bS7W6Llth1lr"
      },
      "outputs": [],
      "source": [
        "# Narrow the correlation dataframe to only the best candidates for graphing\n",
        "graph_df = corr_df.sort_values('mortgage-rate-corr')[:10]"
      ]
    },
    {
      "cell_type": "code",
      "execution_count": null,
      "metadata": {
        "id": "X3YPMzdn3QwQ"
      },
      "outputs": [],
      "source": [
        "# Get additional company issue on the most likely candidates\n",
        "for tkr in tqdm(graph_df.index):\n",
        "  try:\n",
        "    tkr_info = yf.Ticker(tkr)\n",
        "    graph_df.loc[tkr, 'name'] = tkr_info.info.get('longName')\n",
        "    graph_df.loc[tkr, 'sector'] = tkr_info.info.get('sector')\n",
        "    graph_df.loc[tkr, 'ebitda-margins'] = tkr_info.info.get('ebitdaMargins')\n",
        "    graph_df.loc[tkr, 'long-summary'] = tkr_info.info.get('longBusinessSummary')\n",
        "  except:\n",
        "    print(\"No longer listed\")\n"
      ]
    },
    {
      "cell_type": "code",
      "execution_count": null,
      "metadata": {},
      "outputs": [],
      "source": [
        "graph_df"
      ]
    },
    {
      "cell_type": "code",
      "execution_count": null,
      "metadata": {
        "id": "DjaN5WN58ivz"
      },
      "outputs": [],
      "source": [
        "# Create a function to quickly graph the values on a two y-axis line plot\n",
        "def graph_series(tkr, x_srs, y1_srs, y2_srs):\n",
        "  # create figure and axis objects with subplots()\n",
        "  fig, ax = plt.subplots()\n",
        "  \n",
        "  # Plot the first y series\n",
        "  ax.plot(x_srs, y1_srs, color='red')\n",
        "  ax.set_xlabel(\"Date\", fontsize = 14)\n",
        "  ax.set_ylabel(corr_df.loc[tkr].name, color=\"red\", fontsize=14)\n",
        "  \n",
        "  # Twin object for two different y-axis on the sample plot\n",
        "  ax2=ax.twinx()\n",
        "  # Plot the second y series\n",
        "  ax2.plot(x_srs, y2_srs, color=\"blue\")\n",
        "  ax2.set_ylabel(\"Mortgage Rates\",color=\"blue\",fontsize=14)\n",
        "  plt.show()"
      ]
    },
    {
      "cell_type": "code",
      "execution_count": null,
      "metadata": {
        "id": "OihJFRnx94R4"
      },
      "outputs": [],
      "source": [
        "for tkr in graph_df.index:\n",
        "  graph_series(tkr, mortgage_rates_df.index, targets_df[tkr], mortgage_rates_df['MortgageRates'])"
      ]
    },
    {
      "cell_type": "code",
      "execution_count": null,
      "metadata": {},
      "outputs": [],
      "source": []
    },
    {
      "cell_type": "code",
      "execution_count": null,
      "metadata": {
        "id": "wH257bJHqdKi"
      },
      "outputs": [],
      "source": [
        "# Load the more detailed price data on stock reactions to Fed price changes that we gathered and backed up earlier.\n",
        "fed_reactions_df = pd.read_csv('fed-reactions.csv')\n",
        "fed_reactions_df['date'] = pd.to_datetime(fed_reactions_df['date'])\n",
        "fed_reactions_df = fed_reactions_df.set_index('date')"
      ]
    },
    {
      "cell_type": "code",
      "execution_count": null,
      "metadata": {},
      "outputs": [],
      "source": [
        "fed_price_swings_df = pd.DataFrame()\n",
        "for dt in tqdm(fed_actions_df.index):\n",
        "    print(dt)\n",
        "    # Add the action the Fed took to the new dataframe\n",
        "    fed_price_swings_df.loc[dt, 'fed-rate-change'] = fed_actions_df.loc[dt, 'fed-rate-change']\n",
        "\n",
        "    # Establish the date seven days before the Fed Fund action and seven days after\n",
        "    lead_dt = dt - timedelta(days=7)\n",
        "    trail_dt = dt + timedelta(days=7)\n",
        "\n",
        "    for ticker in list(fed_reactions_df):\n",
        "        # Get the prices for each equity on that date.\n",
        "        try:\n",
        "            lead_price_flt = fed_reactions_df.loc[lead_dt, ticker]\n",
        "            trail_price_flt = fed_reactions_df.loc[trail_dt, ticker]\n",
        "        except Exception as e:\n",
        "           print(\"No matching date\")\n",
        "\n",
        "        # Calculate the price change\n",
        "        change_flt = trail_price_flt / lead_price_flt - 1\n",
        "\n",
        "        # Write the results to the data frame\n",
        "        fed_price_swings_df.loc[dt, ticker] = change_flt"
      ]
    },
    {
      "cell_type": "code",
      "execution_count": null,
      "metadata": {},
      "outputs": [],
      "source": [
        "fed_reactions_df.tail()"
      ]
    },
    {
      "cell_type": "code",
      "execution_count": null,
      "metadata": {},
      "outputs": [],
      "source": [
        "pd.DataFrame(fed_price_swings_df[fed_price_swings_df['fed-rate-change'] < 0].mean(axis=0)).sort_values(0, ascending=False)[:10]"
      ]
    },
    {
      "cell_type": "markdown",
      "metadata": {
        "id": "j2MLkGwqEFjR"
      },
      "source": [
        "Additional exploration.\n",
        "1. To overcome the noise it might be best to look at price swings only on the day of and the day following rate change announcements. Of course, mortgage rates are tied more to treasuries than the Fed Funds but... https://en.wikipedia.org/wiki/History_of_Federal_Open_Market_Committee_actions"
      ]
    },
    {
      "cell_type": "code",
      "execution_count": null,
      "metadata": {
        "id": "88kkd1GtG6o8"
      },
      "outputs": [],
      "source": []
    }
  ],
  "metadata": {
    "colab": {
      "provenance": []
    },
    "kernelspec": {
      "display_name": ".venv",
      "language": "python",
      "name": "python3"
    },
    "language_info": {
      "codemirror_mode": {
        "name": "ipython",
        "version": 3
      },
      "file_extension": ".py",
      "mimetype": "text/x-python",
      "name": "python",
      "nbconvert_exporter": "python",
      "pygments_lexer": "ipython3",
      "version": "3.9.13"
    },
    "vscode": {
      "interpreter": {
        "hash": "e000dc9b88b0c861adf0e15fae631424f9c542e1a7eb357809355ebc91036ab4"
      }
    }
  },
  "nbformat": 4,
  "nbformat_minor": 0
}
