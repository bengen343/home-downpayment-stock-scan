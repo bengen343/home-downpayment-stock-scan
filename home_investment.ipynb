{
  "cells": [
    {
      "cell_type": "code",
      "execution_count": null,
      "metadata": {
        "id": "R9aRdXyEACO-",
        "colab": {
          "base_uri": "https://localhost:8080/"
        },
        "outputId": "b23d971a-c3c5-48dc-a41e-fa32b8e87248"
      },
      "outputs": [
        {
          "output_type": "stream",
          "name": "stdout",
          "text": [
            "Looking in indexes: https://pypi.org/simple, https://us-python.pkg.dev/colab-wheels/public/simple/\n",
            "Requirement already satisfied: yfinance in /usr/local/lib/python3.8/dist-packages (0.2.11)\n",
            "Requirement already satisfied: appdirs>=1.4.4 in /usr/local/lib/python3.8/dist-packages (from yfinance) (1.4.4)\n",
            "Requirement already satisfied: html5lib>=1.1 in /usr/local/lib/python3.8/dist-packages (from yfinance) (1.1)\n",
            "Requirement already satisfied: pandas>=1.3.0 in /usr/local/lib/python3.8/dist-packages (from yfinance) (1.3.5)\n",
            "Requirement already satisfied: lxml>=4.9.1 in /usr/local/lib/python3.8/dist-packages (from yfinance) (4.9.2)\n",
            "Requirement already satisfied: multitasking>=0.0.7 in /usr/local/lib/python3.8/dist-packages (from yfinance) (0.0.11)\n",
            "Requirement already satisfied: frozendict>=2.3.4 in /usr/local/lib/python3.8/dist-packages (from yfinance) (2.3.4)\n",
            "Requirement already satisfied: cryptography>=3.3.2 in /usr/local/lib/python3.8/dist-packages (from yfinance) (39.0.1)\n",
            "Requirement already satisfied: numpy>=1.16.5 in /usr/local/lib/python3.8/dist-packages (from yfinance) (1.21.6)\n",
            "Requirement already satisfied: pytz>=2022.5 in /usr/local/lib/python3.8/dist-packages (from yfinance) (2022.7.1)\n",
            "Requirement already satisfied: beautifulsoup4>=4.11.1 in /usr/local/lib/python3.8/dist-packages (from yfinance) (4.11.2)\n",
            "Requirement already satisfied: requests>=2.26 in /usr/local/lib/python3.8/dist-packages (from yfinance) (2.28.2)\n",
            "Requirement already satisfied: soupsieve>1.2 in /usr/local/lib/python3.8/dist-packages (from beautifulsoup4>=4.11.1->yfinance) (2.4)\n",
            "Requirement already satisfied: cffi>=1.12 in /usr/local/lib/python3.8/dist-packages (from cryptography>=3.3.2->yfinance) (1.15.1)\n",
            "Requirement already satisfied: six>=1.9 in /usr/local/lib/python3.8/dist-packages (from html5lib>=1.1->yfinance) (1.15.0)\n",
            "Requirement already satisfied: webencodings in /usr/local/lib/python3.8/dist-packages (from html5lib>=1.1->yfinance) (0.5.1)\n",
            "Requirement already satisfied: python-dateutil>=2.7.3 in /usr/local/lib/python3.8/dist-packages (from pandas>=1.3.0->yfinance) (2.8.2)\n",
            "Requirement already satisfied: idna<4,>=2.5 in /usr/local/lib/python3.8/dist-packages (from requests>=2.26->yfinance) (2.10)\n",
            "Requirement already satisfied: urllib3<1.27,>=1.21.1 in /usr/local/lib/python3.8/dist-packages (from requests>=2.26->yfinance) (1.24.3)\n",
            "Requirement already satisfied: charset-normalizer<4,>=2 in /usr/local/lib/python3.8/dist-packages (from requests>=2.26->yfinance) (2.1.1)\n",
            "Requirement already satisfied: certifi>=2017.4.17 in /usr/local/lib/python3.8/dist-packages (from requests>=2.26->yfinance) (2022.12.7)\n",
            "Requirement already satisfied: pycparser in /usr/local/lib/python3.8/dist-packages (from cffi>=1.12->cryptography>=3.3.2->yfinance) (2.21)\n"
          ]
        }
      ],
      "source": [
        "pip install yfinance"
      ]
    },
    {
      "cell_type": "code",
      "execution_count": null,
      "metadata": {
        "id": "okmr-5Br-z9o"
      },
      "outputs": [],
      "source": [
        "import pandas as pd\n",
        "import numpy as np\n",
        "import yfinance as yf\n",
        "import ast\n",
        "from matplotlib import pyplot as plt\n",
        "from tqdm import tqdm\n",
        "from pandas.core.indexes.datetimes import date\n",
        "from datetime import timedelta\n",
        "\n",
        "import requests\n",
        "from concurrent.futures import ThreadPoolExecutor\n",
        "import concurrent.futures\n",
        "\n",
        "import warnings\n",
        "import numba\n",
        "from numba import jit\n",
        "\n",
        "warnings.simplefilter(action='ignore', category=pd.errors.PerformanceWarning)"
      ]
    },
    {
      "cell_type": "markdown",
      "metadata": {
        "id": "448qYIJAEKcH"
      },
      "source": [
        "We cab get the **full** symbol universe from this Git repo: https://github.com/mlapenna7/yh_symbol_universe\n",
        "\n",
        "It will have to be downloaded and uploaded to this colab notebook whenever the runtime resets."
      ]
    },
    {
      "cell_type": "code",
      "execution_count": null,
      "metadata": {
        "id": "3yHZIO7HE-XP"
      },
      "outputs": [],
      "source": [
        "# Reading the json as a dict\n",
        "with open('yhallsym.txt', 'r') as file:\n",
        "  all_tickers = file.read().rstrip()\n"
      ]
    },
    {
      "cell_type": "code",
      "execution_count": null,
      "metadata": {
        "id": "d9-Uq6JRGV5h"
      },
      "outputs": [],
      "source": [
        "all_tickers_dict = ast.literal_eval(data)"
      ]
    },
    {
      "cell_type": "markdown",
      "source": [
        "But generally speaking, we should ignore the above and focus on just the S&P500 since it's an easier calculation and represents safer investments."
      ],
      "metadata": {
        "id": "a6YobH1K9ymo"
      }
    },
    {
      "cell_type": "code",
      "source": [
        "start_dt = pd.to_datetime('2000-01-01')\n",
        "end_dt = pd.to_datetime('2022-08-01')"
      ],
      "metadata": {
        "id": "LwY9_sOX_azg"
      },
      "execution_count": null,
      "outputs": []
    },
    {
      "cell_type": "code",
      "execution_count": null,
      "metadata": {
        "id": "SHfm8vbnGgkD"
      },
      "outputs": [],
      "source": [
        "# This is a list of all tickers on the S&P500 circa... whenever.\n",
        "spx_tickers_df = pd.read_csv('https://raw.githubusercontent.com/datasets/s-and-p-500-companies/master/data/constituents.csv', on_bad_lines='warn')"
      ]
    },
    {
      "cell_type": "markdown",
      "source": [
        "The list 'target-equities.csv' originated with a simple stock screen via ThinkorSwim to look for equities that were exposed to the Building Materials sector."
      ],
      "metadata": {
        "id": "MJHLqreZ-HLf"
      }
    },
    {
      "cell_type": "code",
      "source": [
        "target_tickers_df = pd.read_csv('target-equities.csv')"
      ],
      "metadata": {
        "id": "yd327IQC7ys1"
      },
      "execution_count": null,
      "outputs": []
    },
    {
      "cell_type": "markdown",
      "source": [
        "The mortgage rate data comes from the weekly rate information published alongside the MBA Purchase Index and retrieved from Bloomberg."
      ],
      "metadata": {
        "id": "8cX_pyVmYram"
      }
    },
    {
      "cell_type": "code",
      "source": [
        "mortgage_rates_df = pd.read_csv('mortgage-rates.csv')\n",
        "mortgage_rates_df['Date'] = pd.to_datetime(mortgage_rates_df['Unnamed: 0'])\n",
        "mortgage_rates_df = pd.DataFrame(mortgage_rates_df.set_index('Date', drop=True)['MortgageRates'])\n",
        "mortgage_rates_df = mortgage_rates_df[mortgage_rates_df.index >= start_dt]"
      ],
      "metadata": {
        "id": "Tb46agNAoKZt"
      },
      "execution_count": null,
      "outputs": []
    },
    {
      "cell_type": "markdown",
      "source": [
        "The list of Fed Funds rate changes in 'fed-actions.csv' was drawn from: https://en.wikipedia.org/wiki/History_of_Federal_Open_Market_Committee_actions"
      ],
      "metadata": {
        "id": "jNkiXl5IaO3v"
      }
    },
    {
      "cell_type": "code",
      "source": [
        "# Load The Fed actions data, set the dates as the index and narrow it to the timeframe we're interested in.\n",
        "fed_actions_df = pd.read_csv('fed-actions.csv')\n",
        "fed_actions_df['fed-date'] = pd.to_datetime(fed_actions_df['fed-date'])\n",
        "fed_actions_df = fed_actions_df.set_index('fed-date', drop=True)\n",
        "fed_actions_df = fed_actions_df[(fed_actions_df.index >= start_dt) & (fed_actions_df.index < end_dt)]"
      ],
      "metadata": {
        "id": "Pf9bHErJaLKY"
      },
      "execution_count": null,
      "outputs": []
    },
    {
      "cell_type": "code",
      "source": [
        "# Define your targets as the full S&P500 plus any additional you've identified.\n",
        "target_tickers_lst = spx_tickers_df['Symbol'].to_list() + target_tickers_df['Symbol'].to_list() + ['^GSPC']\n",
        "target_tickers_lst = list(set(target_tickers_lst))"
      ],
      "metadata": {
        "id": "U6vX8jJElvdv"
      },
      "execution_count": null,
      "outputs": []
    },
    {
      "cell_type": "code",
      "source": [
        "# Define your targets as only those potential equities you've identified.\n",
        "target_tickers_lst = list(set(target_tickers_df['Symbol'].to_list() + ['^GSPC']))"
      ],
      "metadata": {
        "id": "MSKiQzLGhjXq"
      },
      "execution_count": null,
      "outputs": []
    },
    {
      "cell_type": "code",
      "execution_count": null,
      "metadata": {
        "id": "RexAg4v-CvGF"
      },
      "outputs": [],
      "source": [
        "# Download the data on stock prices for our selected equities from Y Finance\n",
        "targets_df = yf.download(tickers=target_tickers_lst, start=start_dt, end=end_dt, interval='1mo')\n",
        "\n",
        "# Narrow the data downloaded to only the close prices.\n",
        "targets_df = targets_df[[(col[0], col[1]) for col in list(targets_df) if col[0] == 'Close']]\n",
        "targets_df.columns = [col[1] for col in list(targets_df)]"
      ]
    },
    {
      "cell_type": "code",
      "source": [
        "# Download the stock prices for our selected equities for dates aronud Fed fund actions.\n",
        "# The requires downloading a seperate dataframe for each Fed action and then concatenating them all.\n",
        "dfs_lst = []\n",
        "for dt in tqdm(fed_actions_df.index[:2]):\n",
        "  range_start_dt = dt - timedelta(days=7)\n",
        "  range_end_dt = dt + timedelta(days=7)\n",
        "\n",
        "  df = yf.download(tickers=target_tickers_lst, start=range_start_dt, end=range_end_dt, interval='1d', threads=True)\n",
        "\n",
        "  dfs_lst.append(df)\n",
        "\n",
        "fed_reaction_df = pd.concat(dfs_lst, axis=0)"
      ],
      "metadata": {
        "id": "JHORXHaUkcus"
      },
      "execution_count": null,
      "outputs": []
    },
    {
      "cell_type": "code",
      "source": [
        "def get_prices_async(action_dt):\n",
        "  range_start_dt = action_dt - timedelta(days=7)\n",
        "  range_end_dt = action_dt + timedelta(days=7)\n",
        "  \n",
        "  df = yf.download(tickers=target_tickers_lst, start=range_start_dt, end=range_end_dt, interval='1d', threads=False)\n",
        "  \n",
        "  return df\n"
      ],
      "metadata": {
        "id": "vSN_5h0Hq1ku"
      },
      "execution_count": null,
      "outputs": []
    },
    {
      "cell_type": "code",
      "source": [
        "futures = []\n",
        "with ThreadPoolExecutor(max_workers=6) as executor:\n",
        "  for _dt in fed_actions_df.index[:5]:\n",
        "    future = executor.submit(get_prices_async, _dt)\n",
        "    futures.append(future)"
      ],
      "metadata": {
        "colab": {
          "base_uri": "https://localhost:8080/"
        },
        "id": "RR2J69g5o8dU",
        "outputId": "002f1781-2781-47a4-9fad-a85977da0219"
      },
      "execution_count": null,
      "outputs": [
        {
          "output_type": "stream",
          "name": "stdout",
          "text": [
            "[*********************100%***********************]  685 of 685 completed\n",
            "\n",
            "28 Failed downloads:\n",
            "- LEN/B: No timezone found, symbol may be delisted\n",
            "- AAN: Data doesn't exist for startDate = 1603944000, endDate = 1605157200\n",
            "- ANAC: Data doesn't exist for startDate = 1603944000, endDate = 1605157200\n",
            "- OGN: Data doesn't exist for startDate = 1603944000, endDate = 1605157200\n",
            "- BF.B: No data found for this date range, symbol may be delisted\n",
            "- AERC: Data doesn't exist for startDate = 1603944000, endDate = 1605157200\n",
            "- MBINN: Data doesn't exist for startDate = 1603944000, endDate = 1605157200\n",
            "- CEG: Data doesn't exist for startDate = 1603944000, endDate = 1605157200\n",
            "- BITI: Data doesn't exist for startDate = 1646802000, endDate = 1648008000\n",
            "- ARHS: Data doesn't exist for startDate = 1603944000, endDate = 1605157200\n",
            "- DFH: Data doesn't exist for startDate = 1603944000, endDate = 1605157200\n",
            "- WEBR: Data doesn't exist for startDate = 1603944000, endDate = 1605157200\n",
            "- HMA: Data doesn't exist for startDate = 1603944000, endDate = 1605157200\n",
            "- ANCHY: No timezone found, symbol may be delisted\n",
            "- BWMN: Data doesn't exist for startDate = 1603944000, endDate = 1605157200\n",
            "- BRK.B: No timezone found, symbol may be delisted\n",
            "- ACT: Data doesn't exist for startDate = 1603944000, endDate = 1605157200\n",
            "- CFSB: Data doesn't exist for startDate = 1603944000, endDate = 1605157200\n",
            "- MBINM: Data doesn't exist for startDate = 1646802000, endDate = 1648008000\n",
            "- FOX: Error occurred while retrieving timeseries from Redis, keys: [RedisKey [key=FOX, cluster=finance]]\n",
            "- CRCT: Data doesn't exist for startDate = 1603944000, endDate = 1605157200\n",
            "- GREI: Data doesn't exist for startDate = 1603944000, endDate = 1605157200\n",
            "- BLFY: Data doesn't exist for startDate = 1603944000, endDate = 1605157200\n",
            "- TCBS: Data doesn't exist for startDate = 1603944000, endDate = 1605157200\n",
            "- HAYW: Data doesn't exist for startDate = 1603944000, endDate = 1605157200\n",
            "- AUVIP: Data doesn't exist for startDate = 1603944000, endDate = 1605157200\n",
            "- COOK: Data doesn't exist for startDate = 1603944000, endDate = 1605157200\n",
            "- LDI: Data doesn't exist for startDate = 1603944000, endDate = 1605157200\n",
            "[*********************100%***********************]  685 of 685 completed\n",
            "\n",
            "28 Failed downloads:\n",
            "- LEN/B: No timezone found, symbol may be delisted\n",
            "- AAN: Data doesn't exist for startDate = 1603944000, endDate = 1605157200\n",
            "- ANAC: Data doesn't exist for startDate = 1603944000, endDate = 1605157200\n",
            "- OGN: Data doesn't exist for startDate = 1603944000, endDate = 1605157200\n",
            "- BF.B: No data found for this date range, symbol may be delisted\n",
            "- AERC: Data doesn't exist for startDate = 1603944000, endDate = 1605157200\n",
            "- MBINN: Data doesn't exist for startDate = 1603944000, endDate = 1605157200\n",
            "- CEG: Data doesn't exist for startDate = 1603944000, endDate = 1605157200\n",
            "- BITI: Data doesn't exist for startDate = 1646802000, endDate = 1648008000\n",
            "- ARHS: Data doesn't exist for startDate = 1603944000, endDate = 1605157200\n",
            "- DFH: Data doesn't exist for startDate = 1603944000, endDate = 1605157200\n",
            "- WEBR: Data doesn't exist for startDate = 1603944000, endDate = 1605157200\n",
            "- HMA: Data doesn't exist for startDate = 1603944000, endDate = 1605157200\n",
            "- ANCHY: No timezone found, symbol may be delisted\n",
            "- BWMN: Data doesn't exist for startDate = 1603944000, endDate = 1605157200\n",
            "- BRK.B: No timezone found, symbol may be delisted\n",
            "- ACT: Data doesn't exist for startDate = 1603944000, endDate = 1605157200\n",
            "- CFSB: Data doesn't exist for startDate = 1603944000, endDate = 1605157200\n",
            "- MBINM: Data doesn't exist for startDate = 1646802000, endDate = 1648008000\n",
            "- FOX: Error occurred while retrieving timeseries from Redis, keys: [RedisKey [key=FOX, cluster=finance]]\n",
            "- CRCT: Data doesn't exist for startDate = 1603944000, endDate = 1605157200\n",
            "- GREI: Data doesn't exist for startDate = 1603944000, endDate = 1605157200\n",
            "- BLFY: Data doesn't exist for startDate = 1603944000, endDate = 1605157200\n",
            "- TCBS: Data doesn't exist for startDate = 1603944000, endDate = 1605157200\n",
            "- HAYW: Data doesn't exist for startDate = 1603944000, endDate = 1605157200\n",
            "- AUVIP: Data doesn't exist for startDate = 1603944000, endDate = 1605157200\n",
            "- COOK: Data doesn't exist for startDate = 1603944000, endDate = 1605157200\n",
            "- LDI: Data doesn't exist for startDate = 1603944000, endDate = 1605157200\n",
            "[*********************100%***********************]  685 of 685 completed\n",
            "\n",
            "28 Failed downloads:\n",
            "- LEN/B: No timezone found, symbol may be delisted\n",
            "- AAN: Data doesn't exist for startDate = 1603944000, endDate = 1605157200\n",
            "- ANAC: Data doesn't exist for startDate = 1603944000, endDate = 1605157200\n",
            "- OGN: Data doesn't exist for startDate = 1603944000, endDate = 1605157200\n",
            "- BF.B: No data found for this date range, symbol may be delisted\n",
            "- AERC: Data doesn't exist for startDate = 1603944000, endDate = 1605157200\n",
            "- MBINN: Data doesn't exist for startDate = 1603944000, endDate = 1605157200\n",
            "- CEG: Data doesn't exist for startDate = 1603944000, endDate = 1605157200\n",
            "- BITI: Data doesn't exist for startDate = 1646802000, endDate = 1648008000\n",
            "- ARHS: Data doesn't exist for startDate = 1603944000, endDate = 1605157200\n",
            "- DFH: Data doesn't exist for startDate = 1603944000, endDate = 1605157200\n",
            "- WEBR: Data doesn't exist for startDate = 1603944000, endDate = 1605157200\n",
            "- HMA: Data doesn't exist for startDate = 1603944000, endDate = 1605157200\n",
            "- ANCHY: No timezone found, symbol may be delisted\n",
            "- BWMN: Data doesn't exist for startDate = 1603944000, endDate = 1605157200\n",
            "- BRK.B: No timezone found, symbol may be delisted\n",
            "- ACT: Data doesn't exist for startDate = 1603944000, endDate = 1605157200\n",
            "- CFSB: Data doesn't exist for startDate = 1603944000, endDate = 1605157200\n",
            "- MBINM: Data doesn't exist for startDate = 1646802000, endDate = 1648008000\n",
            "- FOX: Error occurred while retrieving timeseries from Redis, keys: [RedisKey [key=FOX, cluster=finance]]\n",
            "- CRCT: Data doesn't exist for startDate = 1603944000, endDate = 1605157200\n",
            "- GREI: Data doesn't exist for startDate = 1603944000, endDate = 1605157200\n",
            "- BLFY: Data doesn't exist for startDate = 1603944000, endDate = 1605157200\n",
            "- TCBS: Data doesn't exist for startDate = 1603944000, endDate = 1605157200\n",
            "- HAYW: Data doesn't exist for startDate = 1603944000, endDate = 1605157200\n",
            "- AUVIP: Data doesn't exist for startDate = 1603944000, endDate = 1605157200\n",
            "- COOK: Data doesn't exist for startDate = 1603944000, endDate = 1605157200\n",
            "- LDI: Data doesn't exist for startDate = 1603944000, endDate = 1605157200\n",
            "[*********************100%***********************]  685 of 685 completed\n",
            "\n",
            "28 Failed downloads:\n",
            "- LEN/B: No timezone found, symbol may be delisted\n",
            "- AAN: Data doesn't exist for startDate = 1603944000, endDate = 1605157200\n",
            "- ANAC: Data doesn't exist for startDate = 1603944000, endDate = 1605157200\n",
            "- OGN: Data doesn't exist for startDate = 1603944000, endDate = 1605157200\n",
            "- BF.B: No data found for this date range, symbol may be delisted\n",
            "- AERC: Data doesn't exist for startDate = 1603944000, endDate = 1605157200\n",
            "- MBINN: Data doesn't exist for startDate = 1603944000, endDate = 1605157200\n",
            "- CEG: Data doesn't exist for startDate = 1603944000, endDate = 1605157200\n",
            "- BITI: Data doesn't exist for startDate = 1646802000, endDate = 1648008000\n",
            "- ARHS: Data doesn't exist for startDate = 1603944000, endDate = 1605157200\n",
            "- DFH: Data doesn't exist for startDate = 1603944000, endDate = 1605157200\n",
            "- WEBR: Data doesn't exist for startDate = 1603944000, endDate = 1605157200\n",
            "- HMA: Data doesn't exist for startDate = 1603944000, endDate = 1605157200\n",
            "- ANCHY: No timezone found, symbol may be delisted\n",
            "- BWMN: Data doesn't exist for startDate = 1603944000, endDate = 1605157200\n",
            "- BRK.B: No timezone found, symbol may be delisted\n",
            "- ACT: Data doesn't exist for startDate = 1603944000, endDate = 1605157200\n",
            "- CFSB: Data doesn't exist for startDate = 1603944000, endDate = 1605157200\n",
            "- MBINM: Data doesn't exist for startDate = 1646802000, endDate = 1648008000\n",
            "- FOX: Error occurred while retrieving timeseries from Redis, keys: [RedisKey [key=FOX, cluster=finance]]\n",
            "- CRCT: Data doesn't exist for startDate = 1603944000, endDate = 1605157200\n",
            "- GREI: Data doesn't exist for startDate = 1603944000, endDate = 1605157200\n",
            "- BLFY: Data doesn't exist for startDate = 1603944000, endDate = 1605157200\n",
            "- TCBS: Data doesn't exist for startDate = 1603944000, endDate = 1605157200\n",
            "- HAYW: Data doesn't exist for startDate = 1603944000, endDate = 1605157200\n",
            "- AUVIP: Data doesn't exist for startDate = 1603944000, endDate = 1605157200\n",
            "- COOK: Data doesn't exist for startDate = 1603944000, endDate = 1605157200\n",
            "- LDI: Data doesn't exist for startDate = 1603944000, endDate = 1605157200\n",
            "[*********************100%***********************]  685 of 685 completed\n",
            "\n",
            "28 Failed downloads:\n",
            "- LEN/B: No timezone found, symbol may be delisted\n",
            "- AAN: Data doesn't exist for startDate = 1603944000, endDate = 1605157200\n",
            "- ANAC: Data doesn't exist for startDate = 1603944000, endDate = 1605157200\n",
            "- OGN: Data doesn't exist for startDate = 1603944000, endDate = 1605157200\n",
            "- BF.B: No data found for this date range, symbol may be delisted\n",
            "- AERC: Data doesn't exist for startDate = 1603944000, endDate = 1605157200\n",
            "- MBINN: Data doesn't exist for startDate = 1603944000, endDate = 1605157200\n",
            "- CEG: Data doesn't exist for startDate = 1603944000, endDate = 1605157200\n",
            "- BITI: Data doesn't exist for startDate = 1646802000, endDate = 1648008000\n",
            "- ARHS: Data doesn't exist for startDate = 1603944000, endDate = 1605157200\n",
            "- DFH: Data doesn't exist for startDate = 1603944000, endDate = 1605157200\n",
            "- WEBR: Data doesn't exist for startDate = 1603944000, endDate = 1605157200\n",
            "- HMA: Data doesn't exist for startDate = 1603944000, endDate = 1605157200\n",
            "- ANCHY: No timezone found, symbol may be delisted\n",
            "- BWMN: Data doesn't exist for startDate = 1603944000, endDate = 1605157200\n",
            "- BRK.B: No timezone found, symbol may be delisted\n",
            "- ACT: Data doesn't exist for startDate = 1603944000, endDate = 1605157200\n",
            "- CFSB: Data doesn't exist for startDate = 1603944000, endDate = 1605157200\n",
            "- MBINM: Data doesn't exist for startDate = 1646802000, endDate = 1648008000\n",
            "- FOX: Error occurred while retrieving timeseries from Redis, keys: [RedisKey [key=FOX, cluster=finance]]\n",
            "- CRCT: Data doesn't exist for startDate = 1603944000, endDate = 1605157200\n",
            "- GREI: Data doesn't exist for startDate = 1603944000, endDate = 1605157200\n",
            "- BLFY: Data doesn't exist for startDate = 1603944000, endDate = 1605157200\n",
            "- TCBS: Data doesn't exist for startDate = 1603944000, endDate = 1605157200\n",
            "- HAYW: Data doesn't exist for startDate = 1603944000, endDate = 1605157200\n",
            "- AUVIP: Data doesn't exist for startDate = 1603944000, endDate = 1605157200\n",
            "- COOK: Data doesn't exist for startDate = 1603944000, endDate = 1605157200\n",
            "- LDI: Data doesn't exist for startDate = 1603944000, endDate = 1605157200\n"
          ]
        }
      ]
    },
    {
      "cell_type": "code",
      "source": [
        "fed_reactions_df = pd.DataFrame()\n",
        "for future in concurrent.futures.as_completed(futures):\n",
        "  fed_reactions_df = pd.concat([fed_reactions_df, future.result()])"
      ],
      "metadata": {
        "id": "sUGcrN6m0B-p"
      },
      "execution_count": null,
      "outputs": []
    },
    {
      "cell_type": "code",
      "source": [
        "((636/4)*107)/60/60"
      ],
      "metadata": {
        "colab": {
          "base_uri": "https://localhost:8080/"
        },
        "id": "4eafVUVP4zMT",
        "outputId": "93ea20c1-a6ab-4ee5-ccfa-a96b0c14f736"
      },
      "execution_count": null,
      "outputs": [
        {
          "output_type": "execute_result",
          "data": {
            "text/plain": [
              "4.725833333333333"
            ]
          },
          "metadata": {},
          "execution_count": 19
        }
      ]
    },
    {
      "cell_type": "code",
      "source": [
        "fed_reactions_df.to_csv('fed-reaction.csv')"
      ],
      "metadata": {
        "id": "rGREBkCacJra"
      },
      "execution_count": null,
      "outputs": []
    },
    {
      "cell_type": "code",
      "source": [
        "# This function calculates the cumulative growth rate for each equity relative to the S&P500\n",
        "def calc_growth(df: pd.DataFrame) -> pd.DataFrame:\n",
        "  growth_df = pd.DataFrame(index=df.index)\n",
        "\n",
        "  for ticker in tqdm((['^GSPC'] + list(df)[:-1])):\n",
        "    start_flt = None\n",
        "    growth_flt = None\n",
        "    ticker_indx = df[df[ticker].notnull()].index\n",
        "    if len(ticker_indx) > 0:\n",
        "      start_flt = df.loc[ticker_indx[0], ticker]\n",
        "\n",
        "      for month in ticker_indx:\n",
        "        if ticker == '^GSPC':\n",
        "          growth_flt = (df.loc[month, ticker] / start_flt) - 1\n",
        "          growth_df.loc[month, ticker] = growth_flt\n",
        "        else:\n",
        "          growth_flt = ((df.loc[month, ticker] / start_flt) - 1) - growth_df.loc[month, '^GSPC']\n",
        "          growth_df.loc[month, ticker] = growth_flt\n",
        "\n",
        "  return growth_df"
      ],
      "metadata": {
        "id": "7w3AgVvko9dM"
      },
      "execution_count": null,
      "outputs": []
    },
    {
      "cell_type": "code",
      "source": [
        "growth_df = calc_growth(targets_df)"
      ],
      "metadata": {
        "id": "5SVyPwdKNrpn"
      },
      "execution_count": null,
      "outputs": []
    },
    {
      "cell_type": "code",
      "source": [
        "# This loop adds the growth rate in mortgage rates to their dataframe.\n",
        "for month in mortgage_rates_df.index:\n",
        "  growth_flt = (mortgage_rates_df.loc[month, 'MortgageRates'] / mortgage_rates_df.loc[start_dt, 'MortgageRates']) - 1\n",
        "  mortgage_rates_df.loc[month, 'Growth'] = growth_flt"
      ],
      "metadata": {
        "id": "YTTINY_2q3K-"
      },
      "execution_count": null,
      "outputs": []
    },
    {
      "cell_type": "code",
      "source": [
        "# This loop finds only those equities wih a history that goes back at least through our start date and calculates the \n",
        "# correlation between its growth relative to the S&P500 and the change in mortgage rates.\n",
        "corr_df = pd.DataFrame(index=list(growth_df), columns=['mortgage-rate-corr'])\n",
        "for ticker in tqdm(list(growth_df)):\n",
        "  corr_flt = None\n",
        "  ticker_df = pd.DataFrame(growth_df[growth_df[ticker].notnull()][ticker])\n",
        "  if ticker_df.index[0] <= start_dt:\n",
        "    start_dt = ticker_df.index[0]\n",
        "    x_growth_arr = np.array(ticker_df[ticker])\n",
        "\n",
        "    y_growth_arr = np.array(mortgage_rates_df[mortgage_rates_df.index >= start_dt]['Growth'])\n",
        "\n",
        "    corr_flt = np.corrcoef(x_growth_arr, y_growth_arr)[0][1]\n",
        "\n",
        "    corr_df.loc[ticker, 'mortgage-rate-corr'] = corr_flt"
      ],
      "metadata": {
        "id": "98cVtv5uxkdp"
      },
      "execution_count": null,
      "outputs": []
    },
    {
      "cell_type": "code",
      "source": [
        "# Narrow the correlation dataframe to only the best candidates for graphing\n",
        "graph_df = corr_df.sort_values('mortgage-rate-corr')[:10]"
      ],
      "metadata": {
        "id": "bS7W6Llth1lr"
      },
      "execution_count": null,
      "outputs": []
    },
    {
      "cell_type": "code",
      "source": [
        "# Get additional company issue on the most likely candidates\n",
        "for tkr in tqdm(graph_df.index):\n",
        "  try:\n",
        "    tkr_info = yf.Ticker(tkr)\n",
        "    graph_df.loc[tkr, 'name'] = tkr_info.info.get('longName')\n",
        "    graph_df.loc[tkr, 'sector'] = tkr_info.info.get('sector')\n",
        "    graph_df.loc[tkr, 'ebitda-margins'] = tkr_info.info.get('ebitdaMargins')\n",
        "    graph_df.loc[tkr, 'long-summary'] = tkr_info.info.get('longBusinessSummary')\n",
        "  except:\n",
        "    print(\"No longer listed\")\n"
      ],
      "metadata": {
        "id": "X3YPMzdn3QwQ"
      },
      "execution_count": null,
      "outputs": []
    },
    {
      "cell_type": "code",
      "source": [
        "# Create a function to quickly graph the values on a two y-axis line plot\n",
        "def graph_series(tkr, x_srs, y1_srs, y2_srs):\n",
        "  # create figure and axis objects with subplots()\n",
        "  fig, ax = plt.subplots()\n",
        "  \n",
        "  # Plot the first y series\n",
        "  ax.plot(x_srs, y1_srs, color='red')\n",
        "  ax.set_xlabel(\"Date\", fontsize = 14)\n",
        "  ax.set_ylabel(corr_df.loc[tkr].name, color=\"red\", fontsize=14)\n",
        "  \n",
        "  # Twin object for two different y-axis on the sample plot\n",
        "  ax2=ax.twinx()\n",
        "  # Plot the second y series\n",
        "  ax2.plot(x_srs, y2_srs, color=\"blue\")\n",
        "  ax2.set_ylabel(\"Mortgage Rates\",color=\"blue\",fontsize=14)\n",
        "  plt.show()"
      ],
      "metadata": {
        "id": "DjaN5WN58ivz"
      },
      "execution_count": null,
      "outputs": []
    },
    {
      "cell_type": "code",
      "source": [
        "for tkr in graph_df.index:\n",
        "  graph_series(tkr, mortgage_rates_df.index, targets_df[tkr], mortgage_rates_df['MortgageRates'])"
      ],
      "metadata": {
        "id": "OihJFRnx94R4"
      },
      "execution_count": null,
      "outputs": []
    },
    {
      "cell_type": "code",
      "source": [],
      "metadata": {
        "id": "wH257bJHqdKi"
      },
      "execution_count": null,
      "outputs": []
    },
    {
      "cell_type": "markdown",
      "source": [
        "Additional exploration.\n",
        "1. To overcome the noise it might be best to look at price swings only on the day of and the day following rate change announcements. Of course, mortgage rates are tied more to treasuries than the Fed Funds but... https://en.wikipedia.org/wiki/History_of_Federal_Open_Market_Committee_actions"
      ],
      "metadata": {
        "id": "j2MLkGwqEFjR"
      }
    },
    {
      "cell_type": "code",
      "source": [
        "graph_df = corr_df.sort_values('mortgage-rate-corr')[corr_df.sort_values('mortgage-rate-corr')['mortgage-rate-corr'] < -0.7]"
      ],
      "metadata": {
        "id": "AAL9NJyLEGuT"
      },
      "execution_count": null,
      "outputs": []
    },
    {
      "cell_type": "code",
      "source": [
        "graph_df['sector'].unique()"
      ],
      "metadata": {
        "id": "eZfffi3HEHkd"
      },
      "execution_count": null,
      "outputs": []
    },
    {
      "cell_type": "code",
      "source": [
        "graph_df = graph_df.query(\"sector in ('Real Estate', 'Utilities', 'Basic Materials', 'Financial Services')\")\n",
        "display(graph_df)"
      ],
      "metadata": {
        "id": "jKmBZaIdGtWU"
      },
      "execution_count": null,
      "outputs": []
    },
    {
      "cell_type": "code",
      "source": [],
      "metadata": {
        "id": "88kkd1GtG6o8"
      },
      "execution_count": null,
      "outputs": []
    }
  ],
  "metadata": {
    "colab": {
      "provenance": []
    },
    "kernelspec": {
      "display_name": "Python 3",
      "name": "python3"
    },
    "language_info": {
      "name": "python"
    }
  },
  "nbformat": 4,
  "nbformat_minor": 0
}